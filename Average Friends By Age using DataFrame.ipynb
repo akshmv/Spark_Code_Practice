{
 "cells": [
  {
   "cell_type": "code",
   "execution_count": 0,
   "metadata": {
    "application/vnd.databricks.v1+cell": {
     "cellMetadata": {
      "byteLimit": 2048000,
      "rowLimit": 10000
     },
     "inputWidgets": {},
     "nuid": "e7d3c021-151e-44a8-905e-0307318555c9",
     "showTitle": false,
     "title": ""
    }
   },
   "outputs": [
    {
     "output_type": "stream",
     "name": "stdout",
     "output_type": "stream",
     "text": [
      "+------+--------+---+-------+\n|userID|    name|age|friends|\n+------+--------+---+-------+\n|     0|    Will| 33|    385|\n|     1|Jean-Luc| 26|      2|\n|     2|    Hugh| 55|    221|\n|     3|  Deanna| 40|    465|\n|     4|   Quark| 68|     21|\n|     5|  Weyoun| 59|    318|\n|     6|  Gowron| 37|    220|\n|     7|    Will| 54|    307|\n|     8|  Jadzia| 38|    380|\n|     9|    Hugh| 27|    181|\n+------+--------+---+-------+\nonly showing top 10 rows\n\n+---+---------------+\n|age|Average_Friends|\n+---+---------------+\n| 18|          343.0|\n| 19|          213.0|\n| 20|          165.0|\n| 21|          351.0|\n| 22|          206.0|\n| 23|          246.0|\n| 24|          234.0|\n| 25|          197.0|\n| 26|          242.0|\n| 27|          228.0|\n| 28|          209.0|\n| 29|          216.0|\n| 30|          236.0|\n| 31|          267.0|\n| 32|          208.0|\n| 33|          325.0|\n| 34|          246.0|\n| 35|          212.0|\n| 36|          247.0|\n| 37|          249.0|\n+---+---------------+\nonly showing top 20 rows\n\n"
     ]
    }
   ],
   "source": [
    "#Average Friends by age using DataFrame\n",
    "\n",
    "from pyspark.sql import SparkSession\n",
    "from pyspark.sql.functions import col,avg,desc,asc,round\n",
    "\n",
    "spark = SparkSession.builder\\\n",
    "    .appName(\"Average_Friends_Age\")\\\n",
    "    .getOrCreate()\n",
    "\n",
    "df = spark.read\\\n",
    "    .option(\"header\",True)\\\n",
    "    .option(\"inferSchema\",True)\\\n",
    "    .csv(\"/FileStore/fakefriends_header.csv\")\n",
    "\n",
    "df.show(10)\n",
    "\n",
    "df.groupBy(col(\"age\"))\\\n",
    "    .agg(round(avg(col(\"friends\"))).alias(\"Average_Friends\"))\\\n",
    "    .orderBy(col(\"age\").asc())\\\n",
    "    .show()\n",
    "    "
   ]
  }
 ],
 "metadata": {
  "application/vnd.databricks.v1+notebook": {
   "dashboards": [],
   "environmentMetadata": null,
   "language": "python",
   "notebookMetadata": {
    "pythonIndentUnit": 4
   },
   "notebookName": "Average Friends By Age using DataFrame",
   "widgets": {}
  }
 },
 "nbformat": 4,
 "nbformat_minor": 0
}
