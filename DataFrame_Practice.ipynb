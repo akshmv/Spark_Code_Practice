{
 "cells": [
  {
   "cell_type": "code",
   "execution_count": 0,
   "metadata": {
    "application/vnd.databricks.v1+cell": {
     "cellMetadata": {
      "byteLimit": 2048000,
      "rowLimit": 10000
     },
     "inputWidgets": {},
     "nuid": "d6eb2f61-8031-4eda-abda-383528ac171c",
     "showTitle": false,
     "title": ""
    }
   },
   "outputs": [
    {
     "output_type": "stream",
     "name": "stdout",
     "output_type": "stream",
     "text": [
      "+---------+---------+--------------------+--------+----------------+---------+----------+--------------+\n|InvoiceNo|StockCode|         Description|Quantity|     InvoiceDate|UnitPrice|CustomerID|       Country|\n+---------+---------+--------------------+--------+----------------+---------+----------+--------------+\n|   536365|   85123A|WHITE HANGING HEA...|       6|12-01-2010 08:26|     2.55|     17850|United Kingdom|\n|   536365|    71053| WHITE METAL LANTERN|       6|12-01-2010 08:26|     3.39|     17850|United Kingdom|\n|   536365|   84406B|CREAM CUPID HEART...|       8|12-01-2010 08:26|     2.75|     17850|United Kingdom|\n|   536365|   84029G|KNITTED UNION FLA...|       6|12-01-2010 08:26|     3.39|     17850|United Kingdom|\n|   536365|   84029E|RED WOOLLY HOTTIE...|       6|12-01-2010 08:26|     3.39|     17850|United Kingdom|\n+---------+---------+--------------------+--------+----------------+---------+----------+--------------+\nonly showing top 5 rows\n\n+---------+---------+--------------------+--------+----------------+---------+----------+-------+\n|InvoiceNo|StockCode|         Description|Quantity|     InvoiceDate|UnitPrice|CustomerID|Country|\n+---------+---------+--------------------+--------+----------------+---------+----------+-------+\n|   536370|    22728|ALARM CLOCK BAKEL...|      24|12-01-2010 08:45|     3.75|     12583| France|\n|   536370|    22727|ALARM CLOCK BAKEL...|      24|12-01-2010 08:45|     3.75|     12583| France|\n|   536370|    22726|ALARM CLOCK BAKEL...|      12|12-01-2010 08:45|     3.75|     12583| France|\n|   536370|    21724|PANDA AND BUNNIES...|      12|12-01-2010 08:45|     0.85|     12583| France|\n|   536370|    21883|    STARS GIFT TAPE |      24|12-01-2010 08:45|     0.65|     12583| France|\n|   536370|    10002|INFLATABLE POLITI...|      48|12-01-2010 08:45|     0.85|     12583| France|\n|   536370|    21791|VINTAGE HEADS AND...|      24|12-01-2010 08:45|     1.25|     12583| France|\n|   536370|    21035|SET/2 RED RETROSP...|      18|12-01-2010 08:45|     2.95|     12583| France|\n|   536370|    22326|ROUND SNACK BOXES...|      24|12-01-2010 08:45|     2.95|     12583| France|\n|   536370|    22629| SPACEBOY LUNCH BOX |      24|12-01-2010 08:45|     1.95|     12583| France|\n|   536370|    22659|LUNCH BOX I LOVE ...|      24|12-01-2010 08:45|     1.95|     12583| France|\n|   536370|    22631|CIRCUS PARADE LUN...|      24|12-01-2010 08:45|     1.95|     12583| France|\n|   536370|    22661|CHARLOTTE BAG DOL...|      20|12-01-2010 08:45|     0.85|     12583| France|\n|   536370|    21731|RED TOADSTOOL LED...|      24|12-01-2010 08:45|     1.65|     12583| France|\n|   536370|    22900| SET 2 TEA TOWELS...|      24|12-01-2010 08:45|     2.95|     12583| France|\n|   536370|    21913|VINTAGE SEASIDE J...|      12|12-01-2010 08:45|     3.75|     12583| France|\n|   536370|    22540|MINI JIGSAW CIRCU...|      24|12-01-2010 08:45|     0.42|     12583| France|\n|   536370|    22544|MINI JIGSAW SPACEBOY|      24|12-01-2010 08:45|     0.42|     12583| France|\n|   536370|    22492|MINI PAINT SET VI...|      36|12-01-2010 08:45|     0.65|     12583| France|\n|   536370|     POST|             POSTAGE|       3|12-01-2010 08:45|     18.0|     12583| France|\n+---------+---------+--------------------+--------+----------------+---------+----------+-------+\nonly showing top 20 rows\n\n"
     ]
    }
   ],
   "source": [
    "#Simple Where clause to filter out country = France\n",
    "\n",
    "from pyspark.sql import SparkSession\n",
    "from pyspark.sql.functions import col, count, sum, avg, min, max\n",
    "\n",
    "spark = SparkSession.builder\\\n",
    "    .appName(\"Online_Retail\")\\\n",
    "    .getOrCreate()\n",
    "\n",
    "df = spark.read\\\n",
    "    .option(\"header\",True)\\\n",
    "    .option(\"inferSchema\",True)\\\n",
    "    .csv(\"/FileStore/tables/online_retail_dataset.csv\")\n",
    "\n",
    "df.show(5)\n",
    "\n",
    "df.select(col(\"*\"))\\\n",
    "    .where(col(\"Country\") == \"France\")\\\n",
    "    .show()"
   ]
  },
  {
   "cell_type": "code",
   "execution_count": 0,
   "metadata": {
    "application/vnd.databricks.v1+cell": {
     "cellMetadata": {},
     "inputWidgets": {},
     "nuid": "d6a3aeb4-4d16-469e-9716-648e35fdc076",
     "showTitle": false,
     "title": ""
    }
   },
   "outputs": [],
   "source": [
    "#Count number of records\n",
    "\n",
    "from pyspark.sql import SparkSession\n",
    "from pyspark.sql.functions import col, count, sum, avg, min, max\n",
    "\n",
    "spark = SparkSession.builder\\\n",
    "    .appName(\"Online_Retail\")\\\n",
    "    .getOrCreate()\n",
    "\n",
    "df = spark.read\\\n",
    "    .option(\"header\",True)\\\n",
    "    .option(\"inferSchema\",True)\\\n",
    "    .csv(\"/FileStore/tables/online_retail_dataset.csv\")\n",
    "\n",
    "df.show(5)\n",
    "\n",
    "df.select(count(col(\"*\"))).show()"
   ]
  },
  {
   "cell_type": "code",
   "execution_count": 0,
   "metadata": {
    "application/vnd.databricks.v1+cell": {
     "cellMetadata": {},
     "inputWidgets": {},
     "nuid": "ad6027bd-eb2e-4959-9c54-2270494c6e1d",
     "showTitle": false,
     "title": ""
    }
   },
   "outputs": [],
   "source": [
    "#To find minimum and maximum Unit Price\n",
    "\n",
    "from pyspark.sql import SparkSession\n",
    "from pyspark.sql.functions import col, count, sum, avg, min, max\n",
    "\n",
    "spark = SparkSession.builder\\\n",
    "    .appName(\"Online_Retail\")\\\n",
    "    .getOrCreate()\n",
    "\n",
    "df = spark.read\\\n",
    "    .option(\"header\",True)\\\n",
    "    .option(\"inferSchema\",True)\\\n",
    "    .csv(\"/FileStore/tables/online_retail_dataset.csv\")\n",
    "\n",
    "df.show(5)\n",
    "\n",
    "df.select(min(col(\"UnitPrice\")).alias(\"Minimum_Unit_Price\")).show()\n",
    "df.select(max(col(\"UnitPrice\")).alias(\"Maximum_Unit_Price\")).show()"
   ]
  },
  {
   "cell_type": "code",
   "execution_count": 0,
   "metadata": {
    "application/vnd.databricks.v1+cell": {
     "cellMetadata": {
      "byteLimit": 2048000,
      "rowLimit": 10000
     },
     "inputWidgets": {},
     "nuid": "0a4d40a1-2073-490f-ad96-077bcbe43620",
     "showTitle": false,
     "title": ""
    }
   },
   "outputs": [
    {
     "output_type": "stream",
     "name": "stdout",
     "output_type": "stream",
     "text": [
      "+---------+---------+--------------------+--------+----------------+---------+----------+--------------+\n|InvoiceNo|StockCode|         Description|Quantity|     InvoiceDate|UnitPrice|CustomerID|       Country|\n+---------+---------+--------------------+--------+----------------+---------+----------+--------------+\n|   536365|   85123A|WHITE HANGING HEA...|       6|12-01-2010 08:26|     2.55|     17850|United Kingdom|\n|   536365|    71053| WHITE METAL LANTERN|       6|12-01-2010 08:26|     3.39|     17850|United Kingdom|\n|   536365|   84406B|CREAM CUPID HEART...|       8|12-01-2010 08:26|     2.75|     17850|United Kingdom|\n|   536365|   84029G|KNITTED UNION FLA...|       6|12-01-2010 08:26|     3.39|     17850|United Kingdom|\n|   536365|   84029E|RED WOOLLY HOTTIE...|       6|12-01-2010 08:26|     3.39|     17850|United Kingdom|\n+---------+---------+--------------------+--------+----------------+---------+----------+--------------+\nonly showing top 5 rows\n\n+---------+---------+--------------------+--------+----------------+---------+----------+-------+\n|InvoiceNo|StockCode|         Description|Quantity|     InvoiceDate|UnitPrice|CustomerID|Country|\n+---------+---------+--------------------+--------+----------------+---------+----------+-------+\n|   536370|    22728|ALARM CLOCK BAKEL...|      24|12-01-2010 08:45|     3.75|     12583| France|\n|   536370|    22727|ALARM CLOCK BAKEL...|      24|12-01-2010 08:45|     3.75|     12583| France|\n|   536370|    22726|ALARM CLOCK BAKEL...|      12|12-01-2010 08:45|     3.75|     12583| France|\n|   536370|    21724|PANDA AND BUNNIES...|      12|12-01-2010 08:45|     0.85|     12583| France|\n|   536370|    21883|    STARS GIFT TAPE |      24|12-01-2010 08:45|     0.65|     12583| France|\n|   536370|    10002|INFLATABLE POLITI...|      48|12-01-2010 08:45|     0.85|     12583| France|\n|   536370|    21791|VINTAGE HEADS AND...|      24|12-01-2010 08:45|     1.25|     12583| France|\n|   536370|    21035|SET/2 RED RETROSP...|      18|12-01-2010 08:45|     2.95|     12583| France|\n|   536370|    22326|ROUND SNACK BOXES...|      24|12-01-2010 08:45|     2.95|     12583| France|\n|   536370|    22629| SPACEBOY LUNCH BOX |      24|12-01-2010 08:45|     1.95|     12583| France|\n|   536370|    22659|LUNCH BOX I LOVE ...|      24|12-01-2010 08:45|     1.95|     12583| France|\n|   536370|    22631|CIRCUS PARADE LUN...|      24|12-01-2010 08:45|     1.95|     12583| France|\n|   536370|    22661|CHARLOTTE BAG DOL...|      20|12-01-2010 08:45|     0.85|     12583| France|\n|   536370|    21731|RED TOADSTOOL LED...|      24|12-01-2010 08:45|     1.65|     12583| France|\n|   536370|    22900| SET 2 TEA TOWELS...|      24|12-01-2010 08:45|     2.95|     12583| France|\n|   536370|    21913|VINTAGE SEASIDE J...|      12|12-01-2010 08:45|     3.75|     12583| France|\n|   536370|    22540|MINI JIGSAW CIRCU...|      24|12-01-2010 08:45|     0.42|     12583| France|\n|   536370|    22544|MINI JIGSAW SPACEBOY|      24|12-01-2010 08:45|     0.42|     12583| France|\n|   536370|    22492|MINI PAINT SET VI...|      36|12-01-2010 08:45|     0.65|     12583| France|\n|   536370|     POST|             POSTAGE|       3|12-01-2010 08:45|     18.0|     12583| France|\n+---------+---------+--------------------+--------+----------------+---------+----------+-------+\nonly showing top 20 rows\n\n+--------+\n|count(1)|\n+--------+\n|  541909|\n+--------+\n\n+------------------+\n|Minimum_Unit_Price|\n+------------------+\n|         -11062.06|\n+------------------+\n\n+------------------+\n|Maximum_Unit_Price|\n+------------------+\n|           38970.0|\n+------------------+\n\n+----------------+\n|Distinct_Country|\n+----------------+\n|          Sweden|\n|         Germany|\n|          France|\n|         Belgium|\n|           Italy|\n|            EIRE|\n|       Lithuania|\n|          Norway|\n|           Spain|\n|         Denmark|\n|         Iceland|\n| Channel Islands|\n|          Cyprus|\n|     Switzerland|\n|           Japan|\n|          Poland|\n|        Portugal|\n|       Australia|\n|         Austria|\n|  United Kingdom|\n+----------------+\nonly showing top 20 rows\n\n"
     ]
    }
   ],
   "source": [
    "\n",
    "#To display distinct countries \n",
    "from pyspark.sql import SparkSession\n",
    "from pyspark.sql.functions import col, count, sum, avg, min, max\n",
    "\n",
    "spark = SparkSession.builder\\\n",
    "    .appName(\"Online_Retail\")\\\n",
    "    .getOrCreate()\n",
    "\n",
    "df = spark.read\\\n",
    "    .option(\"header\",True)\\\n",
    "    .option(\"inferSchema\",True)\\\n",
    "    .csv(\"/FileStore/tables/online_retail_dataset.csv\")\n",
    "\n",
    "df.show(5)\n",
    "\n",
    "df.select(col(\"Country\").alias(\"Distinct_Country\")).distinct().show()\n"
   ]
  },
  {
   "cell_type": "code",
   "execution_count": 0,
   "metadata": {
    "application/vnd.databricks.v1+cell": {
     "cellMetadata": {
      "byteLimit": 2048000,
      "rowLimit": 10000
     },
     "inputWidgets": {},
     "nuid": "5cd6395f-b599-4577-a3ed-47081432cc5f",
     "showTitle": false,
     "title": ""
    }
   },
   "outputs": [
    {
     "output_type": "stream",
     "name": "stdout",
     "output_type": "stream",
     "text": [
      "+---------+---------+--------------------+--------+----------------+---------+----------+--------------+\n|InvoiceNo|StockCode|         Description|Quantity|     InvoiceDate|UnitPrice|CustomerID|       Country|\n+---------+---------+--------------------+--------+----------------+---------+----------+--------------+\n|   536365|   85123A|WHITE HANGING HEA...|       6|12-01-2010 08:26|     2.55|     17850|United Kingdom|\n|   536365|    71053| WHITE METAL LANTERN|       6|12-01-2010 08:26|     3.39|     17850|United Kingdom|\n|   536365|   84406B|CREAM CUPID HEART...|       8|12-01-2010 08:26|     2.75|     17850|United Kingdom|\n|   536365|   84029G|KNITTED UNION FLA...|       6|12-01-2010 08:26|     3.39|     17850|United Kingdom|\n|   536365|   84029E|RED WOOLLY HOTTIE...|       6|12-01-2010 08:26|     3.39|     17850|United Kingdom|\n+---------+---------+--------------------+--------+----------------+---------+----------+--------------+\nonly showing top 5 rows\n\n+------------------+\n|Average_Unit_Price|\n+------------------+\n| 4.611113626089712|\n+------------------+\n\n"
     ]
    }
   ],
   "source": [
    "#Average Unit Price\n",
    "\n",
    "from pyspark.sql import SparkSession\n",
    "from pyspark.sql.functions import col, count, sum, avg, min, max\n",
    "\n",
    "spark = SparkSession.builder\\\n",
    "    .appName(\"Online_Retail\")\\\n",
    "    .getOrCreate()\n",
    "\n",
    "df = spark.read\\\n",
    "    .option(\"header\",True)\\\n",
    "    .option(\"inferSchema\",True)\\\n",
    "    .csv(\"/FileStore/tables/online_retail_dataset.csv\")\n",
    "\n",
    "df.show(5)\n",
    "\n",
    "df.select(avg(col(\"UnitPrice\")).alias(\"Average_Unit_Price\")).show()"
   ]
  },
  {
   "cell_type": "code",
   "execution_count": 0,
   "metadata": {
    "application/vnd.databricks.v1+cell": {
     "cellMetadata": {
      "byteLimit": 2048000,
      "rowLimit": 10000
     },
     "inputWidgets": {},
     "nuid": "7cb7826e-7a79-4e0d-a78b-fd76aeea2ce7",
     "showTitle": false,
     "title": ""
    }
   },
   "outputs": [
    {
     "output_type": "stream",
     "name": "stdout",
     "output_type": "stream",
     "text": [
      "+---------+---------+--------------------+--------+----------------+---------+----------+--------------+\n|InvoiceNo|StockCode|         Description|Quantity|     InvoiceDate|UnitPrice|CustomerID|       Country|\n+---------+---------+--------------------+--------+----------------+---------+----------+--------------+\n|   536365|   85123A|WHITE HANGING HEA...|       6|12-01-2010 08:26|     2.55|     17850|United Kingdom|\n|   536365|    71053| WHITE METAL LANTERN|       6|12-01-2010 08:26|     3.39|     17850|United Kingdom|\n|   536365|   84406B|CREAM CUPID HEART...|       8|12-01-2010 08:26|     2.75|     17850|United Kingdom|\n|   536365|   84029G|KNITTED UNION FLA...|       6|12-01-2010 08:26|     3.39|     17850|United Kingdom|\n|   536365|   84029E|RED WOOLLY HOTTIE...|       6|12-01-2010 08:26|     3.39|     17850|United Kingdom|\n+---------+---------+--------------------+--------+----------------+---------+----------+--------------+\nonly showing top 5 rows\n\n+----------------+\n|Total_Unit_Price|\n+----------------+\n|2498803.97400065|\n+----------------+\n\n"
     ]
    }
   ],
   "source": [
    "#sum of Unit Price\n",
    "\n",
    "from pyspark.sql import SparkSession\n",
    "from pyspark.sql.functions import col, count, sum, avg, min, max\n",
    "\n",
    "spark = SparkSession.builder\\\n",
    "    .appName(\"Online_Retail\")\\\n",
    "    .getOrCreate()\n",
    "\n",
    "df = spark.read\\\n",
    "    .option(\"header\",True)\\\n",
    "    .option(\"inferSchema\",True)\\\n",
    "    .csv(\"/FileStore/tables/online_retail_dataset.csv\")\n",
    "\n",
    "df.show(5)\n",
    "\n",
    "df.select(sum(col(\"UnitPrice\")).alias(\"Total_Unit_Price\")).show()"
   ]
  },
  {
   "cell_type": "code",
   "execution_count": 0,
   "metadata": {
    "application/vnd.databricks.v1+cell": {
     "cellMetadata": {
      "byteLimit": 2048000,
      "rowLimit": 10000
     },
     "inputWidgets": {},
     "nuid": "b6f5695d-2416-4f57-8cd0-1a66955da2a9",
     "showTitle": false,
     "title": ""
    }
   },
   "outputs": [
    {
     "output_type": "stream",
     "name": "stdout",
     "output_type": "stream",
     "text": [
      "+---------------+-----------+\n|        Country|Total_Count|\n+---------------+-----------+\n|         Sweden|        462|\n|      Singapore|        229|\n|        Germany|       9495|\n|         France|       8491|\n|         Greece|        146|\n|        Belgium|       2069|\n|        Finland|        695|\n|          Italy|        803|\n|           EIRE|       7485|\n|      Lithuania|         35|\n|         Norway|       1086|\n|          Spain|       2533|\n|        Denmark|        389|\n|      Hong Kong|          0|\n|        Iceland|        182|\n|         Israel|        250|\n|Channel Islands|        758|\n|         Cyprus|        622|\n|    Switzerland|       1877|\n|        Lebanon|         45|\n+---------------+-----------+\nonly showing top 20 rows\n\n"
     ]
    }
   ],
   "source": [
    "#Group by Country\n",
    "\n",
    "from pyspark.sql import SparkSession\n",
    "from pyspark.sql.functions import expr,col, sum, avg, count, min, max\n",
    "\n",
    "spark = SparkSession.builder\\\n",
    "    .appName(\"Online_Retail\")\\\n",
    "    .getOrCreate()\n",
    "\n",
    "df = spark.read\\\n",
    "    .option(\"header\",True)\\\n",
    "    .option(\"inferSchema\",True)\\\n",
    "    .csv(\"/FileStore/tables/online_retail_dataset.csv\")\n",
    "\n",
    "#while using group by we use agg instead of select\n",
    "df.groupBy(col(\"Country\"))\\\n",
    "    .agg(count(col(\"CustomerID\")).alias(\"Total_Count\"))\\\n",
    "    .show()"
   ]
  },
  {
   "cell_type": "code",
   "execution_count": 0,
   "metadata": {
    "application/vnd.databricks.v1+cell": {
     "cellMetadata": {
      "byteLimit": 2048000,
      "rowLimit": 10000
     },
     "inputWidgets": {},
     "nuid": "fdfe512e-a603-42a8-876e-8c9ec3961190",
     "showTitle": false,
     "title": ""
    }
   },
   "outputs": [
    {
     "output_type": "stream",
     "name": "stdout",
     "output_type": "stream",
     "text": [
      "+---------+---------+--------------------+--------+----------------+---------+----------+--------------+\n|InvoiceNo|StockCode|         Description|Quantity|     InvoiceDate|UnitPrice|CustomerID|       Country|\n+---------+---------+--------------------+--------+----------------+---------+----------+--------------+\n|   536365|   85123A|WHITE HANGING HEA...|       6|12-01-2010 08:26|     2.55|     17850|United Kingdom|\n|   536365|    71053| WHITE METAL LANTERN|       6|12-01-2010 08:26|     3.39|     17850|United Kingdom|\n|   536365|   84406B|CREAM CUPID HEART...|       8|12-01-2010 08:26|     2.75|     17850|United Kingdom|\n|   536365|   84029G|KNITTED UNION FLA...|       6|12-01-2010 08:26|     3.39|     17850|United Kingdom|\n|   536365|   84029E|RED WOOLLY HOTTIE...|       6|12-01-2010 08:26|     3.39|     17850|United Kingdom|\n+---------+---------+--------------------+--------+----------------+---------+----------+--------------+\nonly showing top 5 rows\n\n+--------------------+\n|Splitted_Description|\n+--------------------+\n|[WHITE, HANGING, ...|\n|[WHITE, METAL, LA...|\n|[CREAM, CUPID, HE...|\n|[KNITTED, UNION, ...|\n|[RED, WOOLLY, HOT...|\n+--------------------+\nonly showing top 5 rows\n\n+---------+----------+--------------------+\n|InvoiceNo|CustomerID|Exploded_Description|\n+---------+----------+--------------------+\n|   536365|     17850|               WHITE|\n|   536365|     17850|             HANGING|\n|   536365|     17850|               HEART|\n|   536365|     17850|             T-LIGHT|\n|   536365|     17850|              HOLDER|\n+---------+----------+--------------------+\nonly showing top 5 rows\n\n"
     ]
    }
   ],
   "source": [
    "#Split and explode\n",
    "\n",
    "from pyspark.sql import SparkSession\n",
    "from pyspark.sql.functions import col, count, sum, avg, min, max,split,explode\n",
    "\n",
    "spark = SparkSession.builder\\\n",
    "    .appName(\"Online_Retail\")\\\n",
    "    .getOrCreate()\n",
    "\n",
    "df = spark.read\\\n",
    "    .option(\"header\",True)\\\n",
    "    .option(\"inferSchema\",True)\\\n",
    "    .csv(\"/FileStore/tables/online_retail_dataset.csv\")\n",
    "\n",
    "df.show(5)\n",
    "\n",
    "df.select(split(col(\"Description\"),\" \").alias(\"Splitted_Description\"))\\\n",
    "    .show(5)\n",
    "\n",
    "df.withColumn(\"Splitted_Description\", split(col(\"Description\"), \" \"))\\\n",
    "    .withColumn(\"Exploded_Description\", explode(col(\"Splitted_Description\")))\\\n",
    "    .select(\"InvoiceNo\",\"CustomerID\",\"Exploded_Description\")\\\n",
    "    .show(5)"
   ]
  }
 ],
 "metadata": {
  "application/vnd.databricks.v1+notebook": {
   "dashboards": [],
   "environmentMetadata": null,
   "language": "python",
   "notebookMetadata": {
    "pythonIndentUnit": 4
   },
   "notebookName": "DataFrame_Practice",
   "widgets": {}
  }
 },
 "nbformat": 4,
 "nbformat_minor": 0
}
